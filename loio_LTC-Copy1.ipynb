{
 "cells": [
  {
   "cell_type": "markdown",
   "metadata": {},
   "source": [
    "# Nested Leave-One-Issue-Out Cross Validation For Logistic Regression On Textual Features using class_weight=balanced"
   ]
  },
  {
   "cell_type": "code",
   "execution_count": 1,
   "metadata": {},
   "outputs": [],
   "source": [
    "import numpy as np\n",
    "import pandas as pd\n",
    "import xlrd as xl\n",
    "from pandas import ExcelWriter\n",
    "from pandas import ExcelFile\n",
    "import pprint\n",
    "from sklearn import preprocessing\n",
    "from sklearn.model_selection import train_test_split\n",
    "from nltk.stem import WordNetLemmatizer\n",
    "import re\n",
    "import pickle\n",
    "from operator import itemgetter\n",
    "import time, datetime\n",
    "from functools import partial, update_wrapper\n",
    "from openpyxl import load_workbook\n",
    "\n",
    "from sklearn.feature_extraction.text import TfidfVectorizer\n",
    "\n",
    "from imblearn.over_sampling import SMOTE\n",
    "\n",
    "from sklearn.pipeline import Pipeline\n",
    "from imblearn.pipeline import Pipeline as Imb_Pipeline\n",
    "\n",
    "from sklearn.linear_model import LogisticRegression\n",
    "\n",
    "from sklearn.model_selection import StratifiedKFold, GridSearchCV, cross_validate, LeaveOneGroupOut\n",
    "from sklearn.metrics import precision_recall_fscore_support, classification_report, accuracy_score, make_scorer, confusion_matrix\n",
    "\n",
    "pp = pprint.PrettyPrinter(indent=4)\n",
    "\n",
    "## Ignore warnings\n",
    "import warnings\n",
    "def warn(*args, **kwargs):\n",
    "    pass\n",
    "warnings.warn = warn\n",
    "np.warnings.filterwarnings('ignore')"
   ]
  },
  {
   "cell_type": "markdown",
   "metadata": {},
   "source": [
    "#### Use spaCy parser for word tokenization of a sentence:"
   ]
  },
  {
   "cell_type": "code",
   "execution_count": 2,
   "metadata": {},
   "outputs": [],
   "source": [
    "import spacy\n",
    "eng = spacy.load('en_core_web_sm')\n",
    "from spacy.lang.en import English\n",
    "parser = English()"
   ]
  },
  {
   "cell_type": "markdown",
   "metadata": {},
   "source": [
    "#### Define stopwords as punctuation + common contractions:"
   ]
  },
  {
   "cell_type": "code",
   "execution_count": 3,
   "metadata": {},
   "outputs": [],
   "source": [
    "from string import punctuation\n",
    "from nltk.corpus import stopwords\n",
    "\n",
    "stop_words = list(punctuation) + [\"'s\",\"'m\",\"n't\",\"'re\",\"-\",\"'ll\",'...'] #+ stopwords.words('english')"
   ]
  },
  {
   "cell_type": "markdown",
   "metadata": {},
   "source": [
    "#### Code to lemmatize and tokenize:"
   ]
  },
  {
   "cell_type": "code",
   "execution_count": 4,
   "metadata": {},
   "outputs": [],
   "source": [
    "def get_lemma(item):\n",
    "    return WordNetLemmatizer().lemmatize(item)\n",
    "\n",
    "def tokenize(line):\n",
    "    line_tokens = []\n",
    "    tokens = parser(line)\n",
    "    for token in tokens:\n",
    "        if token.orth_.isspace():\n",
    "            continue\n",
    "        elif token.like_url:\n",
    "            line_tokens.append('URL')\n",
    "        elif token.orth_.startswith('@'):\n",
    "            line_tokens.append('SCREEN_NAME')\n",
    "        elif str(token) not in stop_words:\n",
    "            line_tokens.append(get_lemma(token.lower_))\n",
    "    return line_tokens"
   ]
  },
  {
   "cell_type": "code",
   "execution_count": 5,
   "metadata": {},
   "outputs": [
    {
     "name": "stdout",
     "output_type": "stream",
     "text": [
      "Size of corpus: 4330\n"
     ]
    }
   ],
   "source": [
    "### Read from the pickled file\n",
    "\n",
    "all_data = pd.read_pickle('../../data/text_conv_data.pkl')\n",
    "\n",
    "print(\"Size of corpus: \"+str(len(all_data)))"
   ]
  },
  {
   "cell_type": "code",
   "execution_count": 90,
   "metadata": {},
   "outputs": [
    {
     "data": {
      "text/html": [
       "<div>\n",
       "<style scoped>\n",
       "    .dataframe tbody tr th:only-of-type {\n",
       "        vertical-align: middle;\n",
       "    }\n",
       "\n",
       "    .dataframe tbody tr th {\n",
       "        vertical-align: top;\n",
       "    }\n",
       "\n",
       "    .dataframe thead th {\n",
       "        text-align: right;\n",
       "    }\n",
       "</style>\n",
       "<table border=\"1\" class=\"dataframe\">\n",
       "  <thead>\n",
       "    <tr style=\"text-align: right;\">\n",
       "      <th></th>\n",
       "      <th>Document</th>\n",
       "      <th>Text Content</th>\n",
       "      <th>Code</th>\n",
       "      <th>len</th>\n",
       "      <th>tloc</th>\n",
       "      <th>cloc</th>\n",
       "      <th>tpos1</th>\n",
       "      <th>tpos2</th>\n",
       "      <th>clen</th>\n",
       "      <th>tlen</th>\n",
       "      <th>...</th>\n",
       "      <th>aa_MEMBER</th>\n",
       "      <th>aa_NONE</th>\n",
       "      <th>begauth_False</th>\n",
       "      <th>begauth_True</th>\n",
       "      <th>has_code_False</th>\n",
       "      <th>has_code_True</th>\n",
       "      <th>first_turn_False</th>\n",
       "      <th>first_turn_True</th>\n",
       "      <th>last_turn_False</th>\n",
       "      <th>last_turn_True</th>\n",
       "    </tr>\n",
       "  </thead>\n",
       "  <tbody>\n",
       "    <tr>\n",
       "      <th>0</th>\n",
       "      <td>1 37_tensorflow.doc</td>\n",
       "      <td>Node.js (JavaScript) Wrapper API</td>\n",
       "      <td>Expected Behaviour</td>\n",
       "      <td>32</td>\n",
       "      <td>0.5</td>\n",
       "      <td>0.002294</td>\n",
       "      <td>0.0</td>\n",
       "      <td>1.000000</td>\n",
       "      <td>1.0</td>\n",
       "      <td>0.055556</td>\n",
       "      <td>...</td>\n",
       "      <td>0</td>\n",
       "      <td>1</td>\n",
       "      <td>0</td>\n",
       "      <td>1</td>\n",
       "      <td>1</td>\n",
       "      <td>0</td>\n",
       "      <td>0</td>\n",
       "      <td>1</td>\n",
       "      <td>1</td>\n",
       "      <td>0</td>\n",
       "    </tr>\n",
       "    <tr>\n",
       "      <th>1</th>\n",
       "      <td>1 37_tensorflow.doc</td>\n",
       "      <td>Because JavaScript is Awesome</td>\n",
       "      <td>Motivation</td>\n",
       "      <td>29</td>\n",
       "      <td>1.0</td>\n",
       "      <td>0.004587</td>\n",
       "      <td>0.0</td>\n",
       "      <td>1.000000</td>\n",
       "      <td>1.0</td>\n",
       "      <td>0.055556</td>\n",
       "      <td>...</td>\n",
       "      <td>0</td>\n",
       "      <td>1</td>\n",
       "      <td>0</td>\n",
       "      <td>1</td>\n",
       "      <td>1</td>\n",
       "      <td>0</td>\n",
       "      <td>0</td>\n",
       "      <td>1</td>\n",
       "      <td>1</td>\n",
       "      <td>0</td>\n",
       "    </tr>\n",
       "    <tr>\n",
       "      <th>2</th>\n",
       "      <td>1 37_tensorflow.doc</td>\n",
       "      <td>+1!</td>\n",
       "      <td>Social Conversation</td>\n",
       "      <td>3</td>\n",
       "      <td>1.0</td>\n",
       "      <td>0.006881</td>\n",
       "      <td>0.000026</td>\n",
       "      <td>0.999974</td>\n",
       "      <td>1.0</td>\n",
       "      <td>0.013889</td>\n",
       "      <td>...</td>\n",
       "      <td>0</td>\n",
       "      <td>1</td>\n",
       "      <td>1</td>\n",
       "      <td>0</td>\n",
       "      <td>1</td>\n",
       "      <td>0</td>\n",
       "      <td>1</td>\n",
       "      <td>0</td>\n",
       "      <td>1</td>\n",
       "      <td>0</td>\n",
       "    </tr>\n",
       "    <tr>\n",
       "      <th>3</th>\n",
       "      <td>1 37_tensorflow.doc</td>\n",
       "      <td>+1</td>\n",
       "      <td>Social Conversation</td>\n",
       "      <td>2</td>\n",
       "      <td>1.0</td>\n",
       "      <td>0.009174</td>\n",
       "      <td>0.000077</td>\n",
       "      <td>0.999923</td>\n",
       "      <td>1.0</td>\n",
       "      <td>0.013889</td>\n",
       "      <td>...</td>\n",
       "      <td>0</td>\n",
       "      <td>1</td>\n",
       "      <td>1</td>\n",
       "      <td>0</td>\n",
       "      <td>1</td>\n",
       "      <td>0</td>\n",
       "      <td>1</td>\n",
       "      <td>0</td>\n",
       "      <td>1</td>\n",
       "      <td>0</td>\n",
       "    </tr>\n",
       "    <tr>\n",
       "      <th>4</th>\n",
       "      <td>1 37_tensorflow.doc</td>\n",
       "      <td>:+1:</td>\n",
       "      <td>Social Conversation</td>\n",
       "      <td>4</td>\n",
       "      <td>1.0</td>\n",
       "      <td>0.011468</td>\n",
       "      <td>0.000135</td>\n",
       "      <td>0.999865</td>\n",
       "      <td>1.0</td>\n",
       "      <td>0.013889</td>\n",
       "      <td>...</td>\n",
       "      <td>0</td>\n",
       "      <td>1</td>\n",
       "      <td>1</td>\n",
       "      <td>0</td>\n",
       "      <td>1</td>\n",
       "      <td>0</td>\n",
       "      <td>1</td>\n",
       "      <td>0</td>\n",
       "      <td>1</td>\n",
       "      <td>0</td>\n",
       "    </tr>\n",
       "    <tr>\n",
       "      <th>...</th>\n",
       "      <td>...</td>\n",
       "      <td>...</td>\n",
       "      <td>...</td>\n",
       "      <td>...</td>\n",
       "      <td>...</td>\n",
       "      <td>...</td>\n",
       "      <td>...</td>\n",
       "      <td>...</td>\n",
       "      <td>...</td>\n",
       "      <td>...</td>\n",
       "      <td>...</td>\n",
       "      <td>...</td>\n",
       "      <td>...</td>\n",
       "      <td>...</td>\n",
       "      <td>...</td>\n",
       "      <td>...</td>\n",
       "      <td>...</td>\n",
       "      <td>...</td>\n",
       "      <td>...</td>\n",
       "      <td>...</td>\n",
       "      <td>...</td>\n",
       "    </tr>\n",
       "    <tr>\n",
       "      <th>313</th>\n",
       "      <td>15 15604_tensorflow.doc</td>\n",
       "      <td>You can check your graphic card with the comma...</td>\n",
       "      <td>Solution Discussion</td>\n",
       "      <td>50</td>\n",
       "      <td>0.75</td>\n",
       "      <td>0.987421</td>\n",
       "      <td>0.975879</td>\n",
       "      <td>0.024121</td>\n",
       "      <td>0.5</td>\n",
       "      <td>0.070866</td>\n",
       "      <td>...</td>\n",
       "      <td>0</td>\n",
       "      <td>1</td>\n",
       "      <td>1</td>\n",
       "      <td>0</td>\n",
       "      <td>1</td>\n",
       "      <td>0</td>\n",
       "      <td>1</td>\n",
       "      <td>0</td>\n",
       "      <td>1</td>\n",
       "      <td>0</td>\n",
       "    </tr>\n",
       "    <tr>\n",
       "      <th>314</th>\n",
       "      <td>15 15604_tensorflow.doc</td>\n",
       "      <td>CODE</td>\n",
       "      <td>Solution Discussion</td>\n",
       "      <td>4</td>\n",
       "      <td>1.0</td>\n",
       "      <td>0.990566</td>\n",
       "      <td>0.975879</td>\n",
       "      <td>0.024121</td>\n",
       "      <td>0.055556</td>\n",
       "      <td>0.007874</td>\n",
       "      <td>...</td>\n",
       "      <td>0</td>\n",
       "      <td>1</td>\n",
       "      <td>1</td>\n",
       "      <td>0</td>\n",
       "      <td>0</td>\n",
       "      <td>1</td>\n",
       "      <td>1</td>\n",
       "      <td>0</td>\n",
       "      <td>1</td>\n",
       "      <td>0</td>\n",
       "    </tr>\n",
       "    <tr>\n",
       "      <th>315</th>\n",
       "      <td>15 15604_tensorflow.doc</td>\n",
       "      <td>This works for me (tensorflow-gpu==1.8.0 and c...</td>\n",
       "      <td>Solution Discussion</td>\n",
       "      <td>86</td>\n",
       "      <td>1</td>\n",
       "      <td>0.993711</td>\n",
       "      <td>1.0</td>\n",
       "      <td>0.000000</td>\n",
       "      <td>14</td>\n",
       "      <td>0.110236</td>\n",
       "      <td>...</td>\n",
       "      <td>0</td>\n",
       "      <td>1</td>\n",
       "      <td>1</td>\n",
       "      <td>0</td>\n",
       "      <td>1</td>\n",
       "      <td>0</td>\n",
       "      <td>1</td>\n",
       "      <td>0</td>\n",
       "      <td>0</td>\n",
       "      <td>1</td>\n",
       "    </tr>\n",
       "    <tr>\n",
       "      <th>316</th>\n",
       "      <td>15 15604_tensorflow.doc</td>\n",
       "      <td>CODE</td>\n",
       "      <td>Solution Discussion</td>\n",
       "      <td>4</td>\n",
       "      <td>2</td>\n",
       "      <td>0.996855</td>\n",
       "      <td>1.0</td>\n",
       "      <td>0.000000</td>\n",
       "      <td>1</td>\n",
       "      <td>0.007874</td>\n",
       "      <td>...</td>\n",
       "      <td>0</td>\n",
       "      <td>1</td>\n",
       "      <td>1</td>\n",
       "      <td>0</td>\n",
       "      <td>0</td>\n",
       "      <td>1</td>\n",
       "      <td>1</td>\n",
       "      <td>0</td>\n",
       "      <td>0</td>\n",
       "      <td>1</td>\n",
       "    </tr>\n",
       "    <tr>\n",
       "      <th>317</th>\n",
       "      <td>15 15604_tensorflow.doc</td>\n",
       "      <td>suggestion from: https://stackoverflow.com/que...</td>\n",
       "      <td>Solution Discussion</td>\n",
       "      <td>121</td>\n",
       "      <td>3</td>\n",
       "      <td>1.0</td>\n",
       "      <td>1.0</td>\n",
       "      <td>0.000000</td>\n",
       "      <td>3</td>\n",
       "      <td>0.023622</td>\n",
       "      <td>...</td>\n",
       "      <td>0</td>\n",
       "      <td>1</td>\n",
       "      <td>1</td>\n",
       "      <td>0</td>\n",
       "      <td>1</td>\n",
       "      <td>0</td>\n",
       "      <td>1</td>\n",
       "      <td>0</td>\n",
       "      <td>0</td>\n",
       "      <td>1</td>\n",
       "    </tr>\n",
       "  </tbody>\n",
       "</table>\n",
       "<p>4330 rows × 24 columns</p>\n",
       "</div>"
      ],
      "text/plain": [
       "                    Document  \\\n",
       "0        1 37_tensorflow.doc   \n",
       "1        1 37_tensorflow.doc   \n",
       "2        1 37_tensorflow.doc   \n",
       "3        1 37_tensorflow.doc   \n",
       "4        1 37_tensorflow.doc   \n",
       "..                       ...   \n",
       "313  15 15604_tensorflow.doc   \n",
       "314  15 15604_tensorflow.doc   \n",
       "315  15 15604_tensorflow.doc   \n",
       "316  15 15604_tensorflow.doc   \n",
       "317  15 15604_tensorflow.doc   \n",
       "\n",
       "                                          Text Content                 Code  \\\n",
       "0                     Node.js (JavaScript) Wrapper API   Expected Behaviour   \n",
       "1                        Because JavaScript is Awesome           Motivation   \n",
       "2                                                  +1!  Social Conversation   \n",
       "3                                                   +1  Social Conversation   \n",
       "4                                                 :+1:  Social Conversation   \n",
       "..                                                 ...                  ...   \n",
       "313  You can check your graphic card with the comma...  Solution Discussion   \n",
       "314                                               CODE  Solution Discussion   \n",
       "315  This works for me (tensorflow-gpu==1.8.0 and c...  Solution Discussion   \n",
       "316                                               CODE  Solution Discussion   \n",
       "317  suggestion from: https://stackoverflow.com/que...  Solution Discussion   \n",
       "\n",
       "     len  tloc      cloc     tpos1     tpos2      clen      tlen  ...  \\\n",
       "0     32   0.5  0.002294       0.0  1.000000       1.0  0.055556  ...   \n",
       "1     29   1.0  0.004587       0.0  1.000000       1.0  0.055556  ...   \n",
       "2      3   1.0  0.006881  0.000026  0.999974       1.0  0.013889  ...   \n",
       "3      2   1.0  0.009174  0.000077  0.999923       1.0  0.013889  ...   \n",
       "4      4   1.0  0.011468  0.000135  0.999865       1.0  0.013889  ...   \n",
       "..   ...   ...       ...       ...       ...       ...       ...  ...   \n",
       "313   50  0.75  0.987421  0.975879  0.024121       0.5  0.070866  ...   \n",
       "314    4   1.0  0.990566  0.975879  0.024121  0.055556  0.007874  ...   \n",
       "315   86     1  0.993711       1.0  0.000000        14  0.110236  ...   \n",
       "316    4     2  0.996855       1.0  0.000000         1  0.007874  ...   \n",
       "317  121     3       1.0       1.0  0.000000         3  0.023622  ...   \n",
       "\n",
       "    aa_MEMBER aa_NONE  begauth_False  begauth_True  has_code_False  \\\n",
       "0           0       1              0             1               1   \n",
       "1           0       1              0             1               1   \n",
       "2           0       1              1             0               1   \n",
       "3           0       1              1             0               1   \n",
       "4           0       1              1             0               1   \n",
       "..        ...     ...            ...           ...             ...   \n",
       "313         0       1              1             0               1   \n",
       "314         0       1              1             0               0   \n",
       "315         0       1              1             0               1   \n",
       "316         0       1              1             0               0   \n",
       "317         0       1              1             0               1   \n",
       "\n",
       "     has_code_True  first_turn_False  first_turn_True  last_turn_False  \\\n",
       "0                0                 0                1                1   \n",
       "1                0                 0                1                1   \n",
       "2                0                 1                0                1   \n",
       "3                0                 1                0                1   \n",
       "4                0                 1                0                1   \n",
       "..             ...               ...              ...              ...   \n",
       "313              0                 1                0                1   \n",
       "314              1                 1                0                1   \n",
       "315              0                 1                0                0   \n",
       "316              1                 1                0                0   \n",
       "317              0                 1                0                0   \n",
       "\n",
       "     last_turn_True  \n",
       "0                 0  \n",
       "1                 0  \n",
       "2                 0  \n",
       "3                 0  \n",
       "4                 0  \n",
       "..              ...  \n",
       "313               0  \n",
       "314               0  \n",
       "315               1  \n",
       "316               1  \n",
       "317               1  \n",
       "\n",
       "[4330 rows x 24 columns]"
      ]
     },
     "execution_count": 90,
     "metadata": {},
     "output_type": "execute_result"
    }
   ],
   "source": [
    "all_data"
   ]
  },
  {
   "cell_type": "code",
   "execution_count": 93,
   "metadata": {},
   "outputs": [
    {
     "data": {
      "text/plain": [
       "<AxesSubplot:>"
      ]
     },
     "execution_count": 93,
     "metadata": {},
     "output_type": "execute_result"
    },
    {
     "data": {
      "image/png": "[encoded data removed]",
      "text/plain": [
       "<Figure size 432x288 with 1 Axes>"
      ]
     },
     "metadata": {
      "needs_background": "light"
     },
     "output_type": "display_data"
    }
   ],
   "source": [
    "all_data[\"Code\"].value_counts().plot.bar()"
   ]
  },
  {
   "cell_type": "code",
   "execution_count": 89,
   "metadata": {},
   "outputs": [
    {
     "name": "stdout",
     "output_type": "stream",
     "text": [
      "\u001b[0m\u001b[01;34mdata\u001b[0m/                 preprocess_data.ipynb  test_environment.ipynb\r\n",
      "\u001b[01;34mlogistic_regression\u001b[0m/  \u001b[01;34mrandom_forest\u001b[0m/         transform_features.ipynb\r\n"
     ]
    }
   ],
   "source": [
    "ls .."
   ]
  },
  {
   "cell_type": "code",
   "execution_count": 130,
   "metadata": {},
   "outputs": [
    {
     "name": "stdout",
     "output_type": "stream",
     "text": [
      "Size of the train data:  3464\n",
      "Size of the test data:  866\n"
     ]
    }
   ],
   "source": [
    "train = pd.read_pickle('../data/train.pkl')\n",
    "test = pd.read_pickle('../data/test.pkl')\n",
    "\n",
    "print(\"Size of the train data: \", len(train))\n",
    "print(\"Size of the test data: \", len(test))"
   ]
  },
  {
   "cell_type": "code",
   "execution_count": 131,
   "metadata": {},
   "outputs": [
    {
     "data": {
      "text/plain": [
       "<AxesSubplot:>"
      ]
     },
     "execution_count": 131,
     "metadata": {},
     "output_type": "execute_result"
    },
    {
     "data": {
      "image/png": "[encoded data removed]",
      "text/plain": [
       "<Figure size 432x288 with 1 Axes>"
      ]
     },
     "metadata": {},
     "output_type": "display_data"
    }
   ],
   "source": [
    "test[\"Code\"].value_counts().plot.bar()"
   ]
  },
  {
   "cell_type": "code",
   "execution_count": 128,
   "metadata": {},
   "outputs": [
    {
     "name": "stdout",
     "output_type": "stream",
     "text": [
      "{0: 0, 1: 1, 2: 2, 3: 3, 4: 4, 5: 5, 6: 6, 7: 7, 8: 8, 9: 9, 10: 10, 11: 11, 12: 12}\n"
     ]
    }
   ],
   "source": [
    "possible_labels = train[\"Code\"].unique()\n",
    "\n",
    "label_dict = {}\n",
    "for index, possible_label in enumerate(possible_labels):\n",
    "    label_dict[possible_label] = index\n",
    "print(label_dict)"
   ]
  },
  {
   "cell_type": "code",
   "execution_count": 118,
   "metadata": {},
   "outputs": [],
   "source": [
    "train['Code'] = train[\"Code\"].replace(label_dict)\n",
    "test['Code'] = test[\"Code\"].replace(label_dict)"
   ]
  },
  {
   "cell_type": "code",
   "execution_count": 120,
   "metadata": {},
   "outputs": [],
   "source": [
    "X = train['Text Content'].values\n",
    "y = train['Code'].values\n"
   ]
  },
  {
   "cell_type": "code",
   "execution_count": 119,
   "metadata": {},
   "outputs": [],
   "source": [
    "X_test = test['Text Content'].values\n",
    "y_test = test['Code'].values"
   ]
  },
  {
   "cell_type": "code",
   "execution_count": 121,
   "metadata": {},
   "outputs": [
    {
     "data": {
      "text/plain": [
       "array([0, 1, 0, ..., 1, 3, 2])"
      ]
     },
     "execution_count": 121,
     "metadata": {},
     "output_type": "execute_result"
    }
   ],
   "source": [
    "y"
   ]
  },
  {
   "cell_type": "markdown",
   "metadata": {},
   "source": [
    "# Nested Cross-Validation on Logistic Regression:"
   ]
  },
  {
   "cell_type": "code",
   "execution_count": 10,
   "metadata": {},
   "outputs": [
    {
     "ename": "NameError",
     "evalue": "name 'doc_groups' is not defined",
     "output_type": "error",
     "traceback": [
      "\u001b[0;31m---------------------------------------------------------------------------\u001b[0m",
      "\u001b[0;31mNameError\u001b[0m                                 Traceback (most recent call last)",
      "\u001b[0;32m<ipython-input-10-77a1f0b3486a>\u001b[0m in \u001b[0;36m<module>\u001b[0;34m\u001b[0m\n\u001b[1;32m      4\u001b[0m \u001b[0;31m# To be used in outer CV\u001b[0m\u001b[0;34m\u001b[0m\u001b[0;34m\u001b[0m\u001b[0;34m\u001b[0m\u001b[0m\n\u001b[1;32m      5\u001b[0m \u001b[0mlogo\u001b[0m \u001b[0;34m=\u001b[0m \u001b[0mLeaveOneGroupOut\u001b[0m\u001b[0;34m(\u001b[0m\u001b[0;34m)\u001b[0m\u001b[0;34m\u001b[0m\u001b[0;34m\u001b[0m\u001b[0m\n\u001b[0;32m----> 6\u001b[0;31m \u001b[0mouter_cv\u001b[0m \u001b[0;34m=\u001b[0m \u001b[0mlogo\u001b[0m\u001b[0;34m.\u001b[0m\u001b[0msplit\u001b[0m\u001b[0;34m(\u001b[0m\u001b[0mX\u001b[0m\u001b[0;34m,\u001b[0m\u001b[0my\u001b[0m\u001b[0;34m,\u001b[0m\u001b[0mgroups\u001b[0m\u001b[0;34m=\u001b[0m\u001b[0mdoc_groups\u001b[0m\u001b[0;34m)\u001b[0m\u001b[0;34m\u001b[0m\u001b[0;34m\u001b[0m\u001b[0m\n\u001b[0m",
      "\u001b[0;31mNameError\u001b[0m: name 'doc_groups' is not defined"
     ]
    }
   ],
   "source": [
    "# To be used within GridSearch\n",
    "inner_cv = StratifiedKFold(n_splits=5, shuffle=True, random_state=0)\n",
    "\n",
    "# To be used in outer CV\n",
    "logo = LeaveOneGroupOut()\n",
    "outer_cv = logo.split(X,y,groups=doc_groups)"
   ]
  },
  {
   "cell_type": "markdown",
   "metadata": {},
   "source": [
    "## Define Pipelines\n",
    "\n",
    "1. Pipeline1: tfidf + class_weight=balanced"
   ]
  },
  {
   "cell_type": "code",
   "execution_count": 122,
   "metadata": {},
   "outputs": [],
   "source": [
    "pipeline1 = Pipeline([\n",
    "    ('vect', TfidfVectorizer()),\n",
    "    ('clf', LogisticRegression(class_weight='balanced')),\n",
    "])\n",
    "\n",
    "### Hyperparameters to search\n",
    "parameters = {\n",
    "    'vect__ngram_range': ((1, 1), (1, 2)),  # unigrams or bigrams\n",
    "    'clf__C': (0.1, 0.1, 1, 10),\n",
    "}"
   ]
  },
  {
   "cell_type": "markdown",
   "metadata": {},
   "source": [
    "## Nested Cross Validation Using GridSearch"
   ]
  },
  {
   "cell_type": "code",
   "execution_count": 123,
   "metadata": {},
   "outputs": [
    {
     "name": "stdout",
     "output_type": "stream",
     "text": [
      "Completed Pipeline1 scenario in 0:02:23.421820\n"
     ]
    }
   ],
   "source": [
    "### Define and create the scoring functions\n",
    "\n",
    "def score_func(y_true, y_pred, score_index, i):\n",
    "    return(precision_recall_fscore_support(y_true,y_pred,labels=labels)[score_index][i])\n",
    "\n",
    "def avg_score(y_true, y_pred, score_index):\n",
    "    return precision_recall_fscore_support(y_true,y_pred,average='weighted')[score_index]\n",
    "\n",
    "def sum_support(y_true, y_pred):\n",
    "    return len(y_true)\n",
    "\n",
    "### Create partials for each of the metrics returned\n",
    "score_funcs = {v: partial(score_func, score_index=k) for k, v in {0:'precision',1:'recall',2:'fscore',3:'support'}.items()}\n",
    "prec_score = partial(score_func, score_index=0)\n",
    "update_wrapper(prec_score,score_func)\n",
    "rec_score = partial(score_func, score_index=1)\n",
    "update_wrapper(rec_score,score_func)\n",
    "f_score = partial(score_func, score_index=2)\n",
    "update_wrapper(f_score,score_func)\n",
    "support_score = partial(score_func, score_index=3)\n",
    "update_wrapper(support_score,score_func)\n",
    "\n",
    "### Create a callable scoring function for each of the metrics for each classification label\n",
    "scorer = {}\n",
    "for label_id in range(0,13):\n",
    "    scorer['label'+str(label_id)+'_precision'] = make_scorer(prec_score, i=label_id)\n",
    "    scorer['label'+str(label_id)+'_recall'] = make_scorer(rec_score, i=label_id)\n",
    "    scorer['label'+str(label_id)+'_fscore'] = make_scorer(f_score, i=label_id)\n",
    "    scorer['label'+str(label_id)+'_support'] = make_scorer(support_score, i=label_id)\n",
    "\n",
    "### Create a callable scoring function for avg/total of the metrics across classification labels\n",
    "scorer['avg_precision'] = make_scorer(avg_score,score_index=0)\n",
    "scorer['avg_recall'] = make_scorer(avg_score,score_index=1)\n",
    "scorer['avg_fscore'] = make_scorer(avg_score,score_index=2)\n",
    "scorer['total_support'] = make_scorer(sum_support)\n",
    "\n",
    "### Perform Nested cross-validation on Pipeline1\n",
    "start = time.time()\n",
    "clf1 = GridSearchCV(pipeline1, parameters, scoring='f1_weighted')\n",
    "clf1 = clf1.fit(X, y)\n",
    "clf1_results = clf1.predict(X_test)\n",
    "#clf1_results = cross_validate(clf1, X=X, y=y, cv=outer_cv, scoring=scorer)\n",
    "print(\"Completed Pipeline1 scenario in \"+ str(datetime.timedelta(seconds=(time.time()-start))))"
   ]
  },
  {
   "cell_type": "code",
   "execution_count": 124,
   "metadata": {},
   "outputs": [
    {
     "data": {
      "text/plain": [
       "0.5121783698939905"
      ]
     },
     "execution_count": 124,
     "metadata": {},
     "output_type": "execute_result"
    }
   ],
   "source": [
    "from sklearn.metrics import f1_score\n",
    "f1_score(y_test, clf1_results, average='weighted')"
   ]
  },
  {
   "cell_type": "code",
   "execution_count": 125,
   "metadata": {},
   "outputs": [
    {
     "name": "stdout",
     "output_type": "stream",
     "text": [
      "Solution Discussion: \t\tprecision: 0.54, recall: 0.65, fscore: 0.59, support: 282\n",
      "Expected Behaviour: \t\tprecision: 0.48, recall: 0.40, fscore: 0.43, support: 25\n",
      "Usage: \t\tprecision: 0.44, recall: 0.46, fscore: 0.45, support: 74\n",
      "Social Conversation: \t\tprecision: 0.73, recall: 0.69, fscore: 0.71, support: 159\n",
      "Contribution and Commitment: \t\tprecision: 0.56, recall: 0.29, fscore: 0.38, support: 17\n",
      "Bug Reproduction: \t\tprecision: 0.48, recall: 0.45, fscore: 0.46, support: 49\n",
      "Motivation: \t\tprecision: 0.35, recall: 0.31, fscore: 0.33, support: 58\n",
      "Potential New Issues and Requests: \t\tprecision: 0.29, recall: 0.24, fscore: 0.26, support: 46\n",
      "Investigation and Exploration: \t\tprecision: 0.43, recall: 0.51, fscore: 0.47, support: 75\n",
      "Workarounds: \t\tprecision: 0.40, recall: 0.11, fscore: 0.17, support: 18\n",
      "Observed Bug Behaviour: \t\tprecision: 0.21, recall: 0.12, fscore: 0.15, support: 26\n",
      "Task Progress: \t\tprecision: 0.38, recall: 0.32, fscore: 0.35, support: 25\n",
      "Action on Issue: \t\tprecision: 0.88, recall: 0.58, fscore: 0.70, support: 12\n"
     ]
    }
   ],
   "source": [
    "from sklearn.metrics import precision_recall_fscore_support as score\n",
    "\n",
    "precision, recall, fscore, support = score(y_test, clf1_results)\n",
    "\n",
    "for i, label in enumerate(labels):\n",
    "    print('{}: \\t\\tprecision: {:.2f}, recall: {:.2f}, fscore: {:.2f}, support: {}'.format(label, precision[i], recall[i], fscore[i], support[i]))"
   ]
  },
  {
   "cell_type": "code",
   "execution_count": 126,
   "metadata": {},
   "outputs": [
    {
     "data": {
      "text/plain": [
       "{'clf__C': 10, 'vect__ngram_range': (1, 2)}"
      ]
     },
     "execution_count": 126,
     "metadata": {},
     "output_type": "execute_result"
    }
   ],
   "source": [
    "clf1.best_params_"
   ]
  },
  {
   "cell_type": "code",
   "execution_count": 27,
   "metadata": {},
   "outputs": [],
   "source": [
    "label_dict = {'Solution Discussion': 0, 'Expected Behaviour': 1, 'Usage': 2, 'Social Conversation': 3, 'Contribution and Commitment': 4, 'Bug Reproduction': 5, 'Motivation': 6, 'Potential New Issues and Requests': 7, 'Investigation and Exploration': 8, 'Workarounds': 9, 'Observed Bug Behaviour': 10, 'Task Progress': 11, 'Action on Issue': 12}\n",
    "y_test_code = [label_dict.get(i) for i in y_test]\n",
    "clf1_results_code = [label_dict.get(i) for i in clf1_results]\n",
    "bert_code = [3, 8, 11, 3, 0, 8, 6, 0, 2, 3, 8, 0, 7, 6, 2, 0, 3, 0, 0, 0, 3, 10, 0, 0, 0, 3, 0, 3, 8, 5, 0, 0, 3, 0, 3, 8, 0, 0, 8, 3, 6, 0, 0, 0, 3, 0, 0, 0, 0, 0, 0, 0, 3, 5, 7, 0, 1, 5, 5, 8, 0, 12, 0, 8, 8, 3, 2, 0, 1, 0, 9, 0, 3, 5, 0, 3, 8, 3, 5, 0, 2, 3, 0, 0, 8, 2, 3, 0, 0, 6, 0, 11, 0, 0, 3, 5, 0, 3, 7, 0, 2, 0, 5, 6, 0, 2, 0, 3, 2, 2, 0, 0, 5, 2, 0, 2, 0, 0, 3, 0, 0, 0, 5, 3, 0, 3, 0, 8, 0, 8, 1, 8, 0, 0, 0, 5, 0, 0, 0, 6, 7, 6, 0, 0, 3, 0, 8, 0, 0, 3, 8, 3, 3, 0, 0, 7, 2, 0, 0, 3, 12, 5, 3, 3, 0, 7, 7, 0, 0, 8, 0, 2, 2, 11, 5, 3, 3, 2, 3, 8, 3, 0, 0, 2, 0, 0, 0, 1, 0, 1, 0, 3, 7, 3, 3, 0, 3, 0, 5, 0, 0, 1, 3, 6, 4, 11, 3, 0, 0, 5, 0, 0, 3, 2, 0, 0, 0, 5, 8, 8, 2, 8, 0, 0, 2, 0, 0, 7, 3, 0, 0, 0, 5, 8, 0, 2, 12, 0, 0, 3, 3, 3, 2, 0, 0, 3, 0, 3, 3, 0, 5, 3, 6, 3, 0, 0, 0, 8, 8, 6, 5, 3, 9, 3, 2, 0, 8, 3, 0, 0, 0, 3, 0, 0, 0, 3, 3, 0, 7, 5, 0, 3, 0, 0, 3, 0, 0, 8, 5, 0, 5, 0, 8, 0, 0, 11, 0, 0, 8, 0, 12, 2, 0, 0, 0, 2, 0, 0, 10, 0, 2, 0, 3, 0, 0, 3, 1, 0, 2, 11, 0, 3, 0, 0, 2, 0, 0, 0, 0, 3, 10, 7, 0, 1, 7, 3, 7, 0, 5, 10, 0, 0, 3, 11, 0, 2, 3, 3, 8, 8, 8, 0, 0, 0, 0, 3, 3, 0, 11, 3, 3, 0, 3, 0, 2, 3, 7, 2, 5, 0, 8, 7, 0, 0, 0, 0, 8, 0, 3, 2, 1, 4, 1, 8, 8, 0, 0, 0, 0, 0, 0, 3, 6, 3, 0, 8, 2, 0, 0, 5, 0, 7, 0, 0, 0, 0, 0, 0, 10, 6, 0, 6, 0, 6, 1, 8, 8, 5, 0, 3, 0, 0, 3, 0, 8, 0, 0, 4, 0, 0, 5, 3, 0, 0, 0, 2, 8, 0, 0, 8, 5, 0, 0, 0, 0, 3, 0, 6, 5, 3, 3, 12, 0, 0, 0, 7, 0, 3, 6, 3, 0, 0, 0, 0, 0, 3, 0, 0, 5, 8, 3, 0, 2, 0, 8, 4, 0, 0, 0, 8, 0, 0, 0, 1, 10, 0, 0, 0, 0, 8, 0, 3, 0, 3, 0, 0, 6, 5, 0, 0, 2, 3, 0, 0, 3, 0, 8, 8, 0, 0, 7, 2, 0, 0, 3, 2, 3, 0, 0, 7, 0, 3, 5, 3, 8, 2, 0, 3, 2, 0, 2, 0, 11, 3, 11, 0, 0, 3, 3, 0, 0, 3, 0, 0, 2, 0, 3, 3, 8, 2, 0, 10, 11, 3, 0, 8, 3, 3, 0, 0, 0, 0, 11, 8, 0, 0, 0, 3, 2, 0, 0, 10, 0, 0, 7, 3, 0, 0, 0, 2, 3, 1, 3, 4, 0, 2, 0, 0, 3, 0, 1, 3, 2, 0, 3, 0, 0, 5, 0, 12, 0, 3, 0, 0, 8, 4, 8, 0, 0, 3, 7, 0, 0, 11, 0, 6, 3, 0, 0, 2, 0, 0, 2, 10, 6, 8, 7, 8, 0, 1, 6, 0, 11, 0, 0, 3, 0, 0, 0, 0, 0, 2, 3, 6, 0, 0, 0, 3, 3, 3, 0, 7, 4, 3, 6, 3, 3, 8, 0, 7, 7, 0, 3, 0, 8, 2, 3, 0, 0, 5, 11, 0, 0, 12, 3, 5, 11, 0, 2, 0, 8, 6, 0, 0, 10, 8, 0, 0, 11, 2, 0, 6, 0, 7, 8, 0, 0, 4, 0, 3, 2, 7, 0, 0, 7, 0, 0, 2, 0, 7, 0, 0, 6, 6, 3, 0, 0, 3, 0, 4, 3, 0, 0, 0, 0, 0, 0, 0, 0, 3, 3, 0, 0, 3, 0, 0, 4, 6, 1, 3, 0, 0, 3, 0, 0, 12, 4, 8, 8, 0, 3, 0, 5, 0, 6, 2, 5, 3, 5, 11, 0, 3, 0, 0, 0, 0, 0, 3, 0, 0, 0, 3, 6, 0, 3, 5, 8, 2, 3, 0, 0, 0, 7, 3, 3, 3, 0, 8, 0, 0, 1, 3, 0, 0, 0, 9, 0, 3, 0, 5, 4, 7, 0, 0, 8, 3, 3, 2, 0, 2, 0, 1, 5, 0, 3, 0, 0, 11, 0, 7, 0, 0, 3, 8, 0, 3, 3, 0, 5, 5, 3, 3, 10, 2, 0, 0, 8, 0, 0, 10, 0, 8, 12, 3, 2, 3, 3, 3, 0, 2, 0, 0, 8, 0, 0, 3, 2, 12, 3, 0, 6, 6, 0, 0, 0, 5]\n",
    "roberta_code = [3, 0, 11, 3, 0, 8, 0, 0, 2, 3, 8, 9, 0, 6, 2, 0, 4, 0, 0, 5, 3, 10, 0, 0, 1, 3, 0, 3, 0, 5, 0, 0, 8, 0, 3, 8, 0, 0, 8, 3, 6, 0, 0, 0, 3, 0, 0, 0, 0, 0, 1, 5, 0, 7, 7, 6, 1, 7, 8, 7, 1, 12, 0, 5, 8, 0, 2, 0, 1, 0, 9, 4, 3, 2, 6, 3, 2, 3, 0, 0, 0, 0, 0, 8, 8, 2, 0, 0, 2, 0, 0, 11, 11, 3, 3, 5, 0, 3, 0, 0, 0, 2, 5, 0, 0, 0, 0, 3, 2, 3, 8, 0, 3, 2, 0, 0, 0, 8, 3, 5, 0, 0, 5, 3, 0, 3, 0, 8, 0, 0, 1, 8, 0, 3, 0, 5, 0, 0, 0, 0, 7, 0, 3, 8, 3, 0, 8, 10, 7, 3, 8, 3, 3, 0, 0, 2, 6, 0, 0, 3, 12, 5, 0, 3, 0, 0, 7, 0, 0, 8, 0, 3, 0, 11, 5, 3, 3, 0, 3, 8, 1, 2, 0, 0, 0, 0, 0, 0, 0, 0, 0, 7, 7, 3, 3, 0, 3, 0, 5, 0, 2, 0, 3, 0, 4, 0, 3, 10, 0, 5, 7, 0, 3, 2, 0, 3, 0, 5, 8, 8, 2, 8, 5, 0, 2, 2, 0, 2, 3, 0, 0, 0, 0, 5, 0, 2, 12, 0, 0, 0, 3, 3, 2, 0, 0, 3, 0, 3, 3, 10, 10, 3, 6, 3, 0, 4, 0, 0, 8, 6, 5, 3, 9, 3, 2, 0, 8, 3, 0, 2, 11, 3, 0, 8, 0, 3, 3, 0, 5, 5, 0, 2, 11, 0, 3, 0, 0, 0, 0, 0, 2, 0, 0, 0, 0, 11, 0, 0, 8, 0, 12, 0, 0, 0, 0, 0, 0, 0, 5, 0, 0, 0, 2, 0, 0, 3, 1, 0, 2, 11, 1, 3, 10, 8, 2, 0, 0, 0, 11, 3, 0, 11, 0, 1, 10, 3, 0, 0, 0, 5, 0, 6, 3, 11, 0, 2, 3, 3, 0, 8, 0, 2, 7, 0, 0, 0, 3, 0, 11, 3, 3, 0, 3, 2, 2, 3, 0, 0, 5, 2, 7, 7, 0, 0, 0, 0, 0, 0, 4, 2, 6, 0, 0, 0, 8, 3, 0, 0, 0, 2, 6, 3, 6, 3, 9, 8, 2, 0, 0, 5, 9, 11, 0, 0, 2, 0, 0, 6, 10, 2, 0, 6, 0, 6, 1, 2, 8, 5, 0, 3, 0, 0, 3, 10, 8, 10, 0, 3, 2, 1, 8, 2, 0, 4, 0, 0, 2, 0, 0, 8, 5, 0, 0, 0, 0, 3, 0, 0, 5, 3, 0, 1, 0, 0, 0, 0, 2, 3, 6, 3, 8, 0, 0, 2, 0, 3, 0, 0, 5, 5, 3, 2, 2, 0, 8, 4, 0, 0, 0, 8, 0, 0, 3, 1, 10, 0, 4, 0, 2, 0, 0, 3, 8, 3, 0, 1, 6, 5, 7, 0, 0, 3, 0, 0, 3, 9, 0, 0, 9, 5, 0, 0, 0, 0, 3, 2, 3, 0, 0, 0, 0, 3, 2, 9, 0, 0, 11, 3, 10, 0, 2, 0, 0, 3, 0, 7, 0, 3, 8, 0, 0, 3, 8, 0, 2, 0, 3, 3, 8, 3, 2, 10, 11, 3, 1, 4, 3, 0, 0, 10, 0, 0, 11, 0, 0, 0, 3, 3, 2, 3, 2, 10, 0, 0, 7, 3, 0, 7, 0, 2, 3, 1, 3, 4, 0, 2, 0, 0, 3, 0, 5, 3, 2, 0, 8, 0, 0, 5, 0, 12, 0, 3, 3, 0, 5, 4, 8, 0, 0, 3, 2, 0, 0, 11, 2, 2, 3, 0, 6, 0, 0, 0, 0, 0, 1, 8, 10, 8, 0, 1, 6, 0, 11, 2, 0, 3, 0, 0, 0, 2, 0, 0, 3, 0, 0, 0, 0, 3, 3, 3, 0, 7, 1, 3, 6, 3, 3, 10, 0, 0, 7, 0, 3, 0, 8, 2, 3, 5, 2, 0, 11, 0, 0, 12, 3, 5, 11, 11, 0, 8, 10, 0, 0, 0, 11, 8, 0, 0, 11, 2, 0, 6, 2, 8, 7, 0, 0, 4, 2, 3, 0, 0, 1, 2, 7, 2, 0, 2, 0, 0, 0, 0, 0, 2, 3, 0, 0, 3, 0, 11, 3, 0, 6, 0, 0, 0, 2, 0, 0, 3, 3, 0, 0, 3, 0, 11, 4, 0, 1, 3, 0, 0, 3, 12, 0, 12, 4, 8, 8, 6, 3, 0, 8, 7, 6, 2, 5, 3, 5, 11, 0, 0, 0, 0, 0, 2, 0, 0, 0, 0, 2, 3, 2, 0, 0, 2, 8, 2, 3, 0, 0, 0, 8, 3, 3, 3, 0, 8, 2, 0, 0, 3, 0, 0, 2, 9, 0, 3, 0, 5, 4, 7, 11, 0, 8, 3, 3, 6, 7, 0, 0, 7, 0, 2, 3, 0, 0, 4, 0, 0, 0, 0, 3, 0, 0, 3, 1, 0, 5, 5, 3, 2, 10, 2, 0, 0, 0, 0, 1, 10, 5, 8, 1, 3, 0, 3, 3, 3, 0, 2, 0, 0, 8, 0, 2, 3, 2, 12, 3, 6, 0, 1, 0, 2, 0, 5]\n",
    "distilbert_code = [3, 8, 11, 3, 0, 8, 0, 0, 2, 3, 8, 0, 7, 6, 2, 0, 3, 0, 0, 0, 0, 5, 0, 0, 0, 3, 1, 3, 0, 5, 0, 0, 3, 0, 3, 3, 0, 0, 8, 0, 6, 0, 0, 0, 3, 0, 9, 0, 0, 0, 6, 2, 0, 5, 7, 2, 1, 2, 5, 0, 0, 7, 0, 5, 8, 3, 2, 0, 1, 0, 9, 2, 3, 5, 1, 3, 2, 3, 5, 0, 2, 3, 0, 0, 0, 2, 0, 0, 0, 6, 0, 11, 0, 3, 3, 5, 0, 3, 2, 0, 2, 1, 5, 1, 0, 6, 0, 3, 5, 2, 0, 0, 2, 2, 0, 2, 0, 7, 3, 2, 0, 0, 5, 3, 0, 3, 0, 8, 0, 0, 0, 8, 0, 0, 2, 5, 0, 0, 0, 6, 7, 0, 0, 2, 3, 0, 8, 0, 7, 3, 0, 3, 3, 0, 0, 5, 2, 2, 0, 3, 12, 5, 3, 3, 0, 2, 2, 7, 0, 8, 0, 2, 0, 11, 5, 3, 3, 0, 3, 8, 0, 2, 0, 2, 1, 0, 0, 6, 0, 6, 2, 5, 7, 3, 3, 0, 3, 6, 0, 0, 1, 0, 3, 1, 0, 10, 3, 0, 0, 0, 5, 0, 3, 2, 8, 3, 2, 5, 8, 0, 2, 8, 5, 0, 2, 0, 0, 2, 3, 0, 0, 0, 0, 2, 0, 0, 12, 0, 0, 7, 3, 3, 0, 11, 0, 3, 7, 3, 1, 0, 2, 3, 6, 3, 0, 11, 0, 8, 8, 7, 5, 3, 0, 0, 0, 0, 0, 3, 0, 0, 11, 3, 0, 0, 0, 3, 3, 2, 7, 5, 2, 5, 0, 0, 3, 0, 0, 8, 5, 0, 5, 0, 5, 2, 0, 11, 0, 0, 8, 0, 12, 2, 0, 0, 0, 2, 0, 0, 10, 0, 2, 0, 3, 0, 8, 3, 1, 8, 2, 0, 1, 3, 10, 8, 2, 3, 0, 0, 0, 0, 0, 11, 3, 1, 7, 3, 2, 0, 0, 7, 5, 0, 0, 11, 6, 0, 3, 3, 0, 8, 10, 0, 0, 0, 0, 0, 3, 0, 11, 3, 6, 1, 3, 2, 2, 3, 0, 0, 5, 2, 8, 7, 0, 0, 0, 0, 10, 0, 3, 2, 7, 11, 1, 2, 8, 0, 0, 0, 6, 0, 0, 3, 0, 3, 0, 8, 2, 0, 7, 7, 0, 3, 0, 7, 2, 0, 1, 0, 8, 6, 0, 6, 0, 6, 1, 8, 8, 5, 1, 1, 0, 0, 3, 0, 8, 0, 7, 4, 2, 0, 0, 2, 0, 0, 0, 0, 0, 0, 0, 8, 5, 0, 0, 0, 0, 3, 0, 1, 5, 3, 0, 12, 0, 0, 1, 11, 5, 3, 6, 3, 0, 2, 1, 2, 7, 2, 0, 0, 10, 8, 3, 0, 2, 0, 8, 4, 0, 0, 0, 0, 0, 0, 0, 1, 5, 0, 4, 6, 0, 8, 0, 3, 8, 3, 0, 0, 6, 5, 2, 0, 2, 3, 3, 0, 3, 0, 0, 10, 7, 12, 0, 0, 0, 0, 3, 2, 3, 0, 0, 0, 0, 3, 5, 9, 0, 2, 0, 3, 2, 0, 2, 11, 0, 3, 7, 0, 0, 3, 3, 0, 2, 3, 0, 0, 6, 0, 3, 3, 2, 0, 1, 2, 11, 0, 0, 0, 3, 0, 0, 5, 0, 0, 0, 8, 0, 3, 0, 3, 2, 3, 0, 5, 0, 6, 7, 3, 0, 0, 0, 2, 3, 0, 3, 4, 0, 2, 0, 7, 3, 0, 7, 3, 7, 0, 3, 0, 0, 5, 0, 12, 0, 3, 3, 0, 8, 4, 8, 8, 0, 6, 7, 0, 0, 3, 8, 0, 3, 0, 0, 2, 0, 4, 2, 10, 1, 8, 10, 8, 0, 3, 0, 0, 11, 0, 6, 3, 0, 0, 7, 5, 0, 2, 3, 6, 0, 4, 1, 3, 3, 3, 0, 7, 1, 3, 6, 3, 3, 8, 0, 0, 7, 0, 3, 0, 8, 2, 3, 8, 2, 0, 11, 0, 0, 12, 3, 5, 11, 0, 2, 0, 2, 7, 0, 0, 10, 8, 0, 0, 3, 2, 2, 6, 0, 0, 8, 0, 0, 11, 2, 3, 2, 0, 0, 6, 7, 2, 0, 2, 2, 7, 0, 0, 0, 6, 3, 2, 0, 3, 0, 5, 3, 2, 0, 2, 0, 0, 0, 0, 7, 3, 3, 0, 0, 3, 5, 0, 3, 2, 1, 3, 0, 0, 3, 4, 0, 12, 4, 8, 0, 0, 0, 0, 5, 7, 0, 2, 5, 3, 5, 11, 0, 2, 0, 6, 6, 2, 0, 0, 0, 0, 0, 3, 2, 0, 3, 7, 8, 2, 3, 0, 0, 0, 0, 3, 3, 3, 0, 8, 2, 2, 1, 3, 0, 0, 0, 9, 0, 0, 0, 2, 7, 0, 11, 2, 10, 3, 3, 6, 0, 2, 1, 3, 5, 2, 3, 0, 0, 11, 0, 2, 0, 0, 3, 8, 0, 3, 1, 0, 5, 5, 3, 3, 10, 2, 0, 0, 8, 0, 0, 2, 7, 8, 12, 3, 2, 11, 1, 3, 0, 2, 0, 0, 8, 0, 0, 3, 0, 12, 3, 6, 0, 1, 0, 2, 0, 5]"
   ]
  },
  {
   "cell_type": "code",
   "execution_count": 77,
   "metadata": {},
   "outputs": [
    {
     "data": {
      "text/plain": [
       "FriedmanchisquareResult(statistic=21.531410083579516, pvalue=8.164178632958485e-05)"
      ]
     },
     "execution_count": 77,
     "metadata": {},
     "output_type": "execute_result"
    }
   ],
   "source": [
    "# Friedman test\n",
    "from scipy import stats\n",
    "\n",
    "#perform Friedman Test\n",
    "stats.friedmanchisquare(clf1_results_code, bert_code, distilbert_code, roberta_code)"
   ]
  },
  {
   "cell_type": "markdown",
   "metadata": {},
   "source": [
    "Since this p-value is less than 0.05, we can reject the null hypothesis that there is no system exist with significant results."
   ]
  },
  {
   "cell_type": "code",
   "execution_count": 78,
   "metadata": {},
   "outputs": [],
   "source": [
    "from scipy import stats\n",
    "import matplotlib.pyplot as plt"
   ]
  },
  {
   "cell_type": "code",
   "execution_count": 79,
   "metadata": {},
   "outputs": [
    {
     "data": {
      "text/plain": [
       "WilcoxonResult(statistic=24907.0, pvalue=0.0007078362950327206)"
      ]
     },
     "execution_count": 79,
     "metadata": {},
     "output_type": "execute_result"
    }
   ],
   "source": [
    "stats.wilcoxon(bert_code, clf1_results_code)"
   ]
  },
  {
   "cell_type": "code",
   "execution_count": 80,
   "metadata": {},
   "outputs": [
    {
     "data": {
      "text/plain": [
       "WilcoxonResult(statistic=26726.5, pvalue=0.000523528306392392)"
      ]
     },
     "execution_count": 80,
     "metadata": {},
     "output_type": "execute_result"
    }
   ],
   "source": [
    "stats.wilcoxon(distilbert_code, clf1_results_code)"
   ]
  },
  {
   "cell_type": "code",
   "execution_count": 81,
   "metadata": {},
   "outputs": [
    {
     "data": {
      "text/plain": [
       "WilcoxonResult(statistic=27531.5, pvalue=0.002129315176203599)"
      ]
     },
     "execution_count": 81,
     "metadata": {},
     "output_type": "execute_result"
    }
   ],
   "source": [
    "stats.wilcoxon(roberta_code, clf1_results_code)"
   ]
  },
  {
   "cell_type": "code",
   "execution_count": 82,
   "metadata": {},
   "outputs": [
    {
     "data": {
      "text/plain": [
       "WilcoxonResult(statistic=17168.5, pvalue=0.9622178239935365)"
      ]
     },
     "execution_count": 82,
     "metadata": {},
     "output_type": "execute_result"
    }
   ],
   "source": [
    "stats.wilcoxon(distilbert_code, bert_code)"
   ]
  },
  {
   "cell_type": "code",
   "execution_count": 83,
   "metadata": {},
   "outputs": [
    {
     "data": {
      "text/plain": [
       "WilcoxonResult(statistic=18307.0, pvalue=0.685427491436853)"
      ]
     },
     "execution_count": 83,
     "metadata": {},
     "output_type": "execute_result"
    }
   ],
   "source": [
    "stats.wilcoxon(roberta_code, bert_code)"
   ]
  },
  {
   "cell_type": "code",
   "execution_count": 84,
   "metadata": {},
   "outputs": [
    {
     "data": {
      "text/plain": [
       "WilcoxonResult(statistic=25488.0, pvalue=0.8317902545882349)"
      ]
     },
     "execution_count": 84,
     "metadata": {},
     "output_type": "execute_result"
    }
   ],
   "source": [
    "stats.wilcoxon(distilbert_code, roberta_code)"
   ]
  },
  {
   "cell_type": "code",
   "execution_count": 85,
   "metadata": {},
   "outputs": [],
   "source": [
    "\n",
    "%matplotlib inline"
   ]
  },
  {
   "cell_type": "code",
   "execution_count": 86,
   "metadata": {},
   "outputs": [
    {
     "data": {
      "image/png": "[encoded data removed]",
      "text/plain": [
       "<Figure size 432x288 with 1 Axes>"
      ]
     },
     "metadata": {
      "needs_background": "light"
     },
     "output_type": "display_data"
    }
   ],
   "source": [
    "import numpy as np\n",
    "from sklearn import metrics\n",
    "from itertools import cycle\n",
    "\n",
    "\n",
    "n_classes = 13\n",
    "lw = 2\n",
    "\n",
    "results = {\n",
    "    \"logistic regression\": clf1_results_code,\n",
    "    \"BERT\": bert_code,\n",
    "    \"RoBERTa\": roberta_code,\n",
    "    \"DistilBERT\": distilbert_code}\n",
    "\n",
    "plt.figure()\n",
    "for name, result in results.items():\n",
    "    # Compute ROC curve and ROC area for each class\n",
    "    fpr = dict()\n",
    "    tpr = dict()\n",
    "    roc_auc = dict()\n",
    "    for i in range(13):\n",
    "        fpr[i], tpr[i], _ = metrics.roc_curve(y_test_code, result, pos_label=i)\n",
    "        roc_auc[i] = metrics.auc(fpr[i], tpr[i])\n",
    "\n",
    "\n",
    "    # First aggregate all false positive rates\n",
    "    all_fpr = np.unique(np.concatenate([fpr[i] for i in range(n_classes)]))\n",
    "\n",
    "    # Then interpolate all ROC curves at this points\n",
    "    mean_tpr = np.zeros_like(all_fpr)\n",
    "    for i in range(n_classes):\n",
    "        mean_tpr += np.interp(all_fpr, fpr[i], tpr[i])\n",
    "\n",
    "    # Finally average it and compute AUC\n",
    "    mean_tpr /= n_classes\n",
    "\n",
    "    fpr[\"macro\"] = all_fpr\n",
    "    tpr[\"macro\"] = mean_tpr\n",
    "    roc_auc[\"macro\"] = metrics.auc(fpr[\"macro\"], tpr[\"macro\"])\n",
    "\n",
    "    # Plot all ROC curves\n",
    "    \n",
    "    \"\"\"\n",
    "    plt.plot(\n",
    "        fpr[\"micro\"],\n",
    "        tpr[\"micro\"],\n",
    "        label=\"micro-average ROC curve (area = {0:0.2f})\".format(roc_auc[\"micro\"]),\n",
    "        color=\"deeppink\",\n",
    "        linestyle=\":\",\n",
    "        linewidth=4,\n",
    "    )\"\"\"\n",
    "    label = \"macro-average \" + name\n",
    "    plt.plot(\n",
    "        fpr[\"macro\"],\n",
    "        tpr[\"macro\"],\n",
    "        label=label+\" (area = {0:0.2f})\".format(roc_auc[\"macro\"]),\n",
    "        linewidth=4,\n",
    "    )\n",
    "\n",
    "plt.plot([0, 1], [0, 1], \"k--\", lw=lw)\n",
    "plt.xlim([0.0, 1.0])\n",
    "plt.ylim([0.0, 1.05])\n",
    "plt.xlabel(\"False Positive Rate\")\n",
    "plt.ylabel(\"True Positive Rate\")\n",
    "plt.legend(loc=\"lower right\")\n",
    "plt.show()"
   ]
  },
  {
   "cell_type": "code",
   "execution_count": 137,
   "metadata": {},
   "outputs": [],
   "source": [
    "labels = ['Solution Discussion', 'Expected Behaviour', 'Usage', 'Social Conversation', 'Contribution and Commitment', 'Bug Reproduction', 'Motivation', 'Potential New Issues and Requests', 'Investigation and Exploration', 'Workarounds', 'Observed Bug Behaviour', 'Task Progress', 'Action on Issue']\n",
    "\n",
    "def convert_labels(codes):\n",
    "    new_codes = []\n",
    "    for i in codes:\n",
    "        new_codes.append(labels[i])\n",
    "    return new_codes"
   ]
  },
  {
   "cell_type": "code",
   "execution_count": 141,
   "metadata": {},
   "outputs": [
    {
     "name": "stdout",
     "output_type": "stream",
     "text": [
      "[[  8   0   1   0   0   0   0   0   0   1   2   0   0]\n",
      " [  0  20   0   0   5   0   3   2   2  14   0   3   0]\n",
      " [  0   0   8   1   0   0   0   1   4   3   0   0   0]\n",
      " [  0   0   0  10   1   2   0   0   2   9   0   1   0]\n",
      " [  0   4   0   0  24   0   3   3   0  27   1  13   0]\n",
      " [  0   1   0   5   0  13   2   0   2  30   2   3   0]\n",
      " [  0   6   0   0   6   0   6   0   1   5   0   2   0]\n",
      " [  0   3   2   1   3   1   1   9   1  21   1   3   0]\n",
      " [  1   0   2   0   4   2   0   2 126  17   2   2   1]\n",
      " [  0   5   2   8  14   5   5   7   5 203   6  19   3]\n",
      " [  0   0   0   0   0   0   0   1   1   9  12   2   0]\n",
      " [  0   2   1   0   0   1   0   0   3  29   1  37   0]\n",
      " [  0   1   0   1   0   1   0   0   2   7   0   1   5]]\n"
     ]
    }
   ],
   "source": [
    "from sklearn.metrics import confusion_matrix\n",
    "#Get the confusion matrix\n",
    "\n",
    "new_roberta = convert_labels(roberta_code)\n",
    "gt = convert_labels(y_test_code)\n",
    "\n",
    "    \n",
    "cf_matrix = confusion_matrix(gt,new_roberta)\n",
    "print(cf_matrix)"
   ]
  },
  {
   "cell_type": "code",
   "execution_count": 142,
   "metadata": {},
   "outputs": [
    {
     "data": {
      "text/plain": [
       "['Solution Discussion',\n",
       " 'Expected Behaviour',\n",
       " 'Usage',\n",
       " 'Social Conversation',\n",
       " 'Contribution and Commitment',\n",
       " 'Bug Reproduction',\n",
       " 'Motivation',\n",
       " 'Potential New Issues and Requests',\n",
       " 'Investigation and Exploration',\n",
       " 'Workarounds',\n",
       " 'Observed Bug Behaviour',\n",
       " 'Task Progress',\n",
       " 'Action on Issue']"
      ]
     },
     "execution_count": 142,
     "metadata": {},
     "output_type": "execute_result"
    }
   ],
   "source": [
    "labels"
   ]
  },
  {
   "cell_type": "code",
   "execution_count": 150,
   "metadata": {},
   "outputs": [
    {
     "data": {
      "image/png": "[encoded data removed]",
      "text/plain": [
       "<Figure size 432x288 with 2 Axes>"
      ]
     },
     "metadata": {},
     "output_type": "display_data"
    }
   ],
   "source": [
    "import seaborn as sn\n",
    "import pandas as pd\n",
    "import matplotlib.pyplot as plt\n",
    "\n",
    "\n",
    "df_cm = pd.DataFrame(cf_matrix, labels[::-1], labels[::-1])\n",
    "# plt.figure(figsize=(10,7))\n",
    "sn.set(style=\"whitegrid\", palette=\"pastel\", font_scale=0.7) # for label size\n",
    "sn.heatmap(df_cm,cmap=\"YlGnBu\", annot=True) # font size\n",
    "\n",
    "plt.show()"
   ]
  },
  {
   "cell_type": "code",
   "execution_count": null,
   "metadata": {},
   "outputs": [],
   "source": []
  }
 ],
 "metadata": {
  "kernelspec": {
   "display_name": "base",
   "language": "python",
   "name": "base"
  },
  "language_info": {
   "codemirror_mode": {
    "name": "ipython",
    "version": 3
   },
   "file_extension": ".py",
   "mimetype": "text/x-python",
   "name": "python",
   "nbconvert_exporter": "python",
   "pygments_lexer": "ipython3",
   "version": "3.8.8"
  }
 },
 "nbformat": 4,
 "nbformat_minor": 2
}
