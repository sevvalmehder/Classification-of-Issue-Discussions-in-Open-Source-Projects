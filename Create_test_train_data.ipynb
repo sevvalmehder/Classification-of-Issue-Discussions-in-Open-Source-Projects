{
 "cells": [
  {
   "cell_type": "code",
   "execution_count": 48,
   "metadata": {
    "id": "Mhof0iMv6SwV"
   },
   "outputs": [],
   "source": [
    "import pandas as pd\n",
    "import numpy as np\n",
    "from sklearn.model_selection import train_test_split"
   ]
  },
  {
   "cell_type": "code",
   "execution_count": 8,
   "metadata": {
    "colab": {
     "base_uri": "https://localhost:8080/"
    },
    "id": "sqY3YMdH63FH",
    "outputId": "117a75e1-3d5f-4c45-b502-3da07ef4b333"
   },
   "outputs": [
    {
     "name": "stdout",
     "output_type": "stream",
     "text": [
      "Size of corpus:  4330\n"
     ]
    }
   ],
   "source": [
    "all_data = pd.read_pickle('./data/text_conv_data.pkl')\n",
    "\n",
    "print(\"Size of corpus: \", len(all_data))"
   ]
  },
  {
   "cell_type": "code",
   "execution_count": 9,
   "metadata": {
    "colab": {
     "base_uri": "https://localhost:8080/"
    },
    "id": "tX8-pfJs8gEq",
    "outputId": "add8076a-8ede-4265-a0de-13fa74f69ba0"
   },
   "outputs": [
    {
     "data": {
      "text/plain": [
       "Index(['Document', 'Text Content', 'Code', 'len', 'tloc', 'cloc', 'tpos1',\n",
       "       'tpos2', 'clen', 'tlen', 'ppau', 'npau', 'aa_COLLABORATOR',\n",
       "       'aa_CONTRIBUTOR', 'aa_MEMBER', 'aa_NONE', 'begauth_False',\n",
       "       'begauth_True', 'has_code_False', 'has_code_True', 'first_turn_False',\n",
       "       'first_turn_True', 'last_turn_False', 'last_turn_True'],\n",
       "      dtype='object')"
      ]
     },
     "execution_count": 9,
     "metadata": {},
     "output_type": "execute_result"
    }
   ],
   "source": [
    "all_data.columns"
   ]
  },
  {
   "cell_type": "code",
   "execution_count": 20,
   "metadata": {
    "id": "Sa_Oa8dX99Av"
   },
   "outputs": [],
   "source": [
    "X = all_data['Text Content']\n",
    "y = all_data['Code']"
   ]
  },
  {
   "cell_type": "code",
   "execution_count": 21,
   "metadata": {
    "colab": {
     "base_uri": "https://localhost:8080/"
    },
    "id": "v9-pIGd6-CQt",
    "outputId": "9359cd75-51de-41d7-c67d-b530cb92cf5c"
   },
   "outputs": [
    {
     "data": {
      "text/plain": [
       "{'Action on Issue',\n",
       " 'Bug Reproduction',\n",
       " 'Contribution and Commitment',\n",
       " 'Expected Behaviour',\n",
       " 'Investigation and Exploration',\n",
       " 'Motivation',\n",
       " 'Observed Bug Behaviour',\n",
       " 'Potential New Issues and Requests',\n",
       " 'Social Conversation',\n",
       " 'Solution Discussion',\n",
       " 'Task Progress',\n",
       " 'Usage',\n",
       " 'Workarounds'}"
      ]
     },
     "execution_count": 21,
     "metadata": {},
     "output_type": "execute_result"
    }
   ],
   "source": [
    "labels = set(list(y))\n",
    "labels"
   ]
  },
  {
   "cell_type": "code",
   "execution_count": 34,
   "metadata": {
    "colab": {
     "base_uri": "https://localhost:8080/",
     "height": 483
    },
    "id": "HWXhxP7S-DN6",
    "outputId": "079e57e6-2c43-454a-ac3d-efe2de7aba90"
   },
   "outputs": [
    {
     "data": {
      "text/plain": [
       "<matplotlib.axes._subplots.AxesSubplot at 0x7f9a76613e10>"
      ]
     },
     "execution_count": 34,
     "metadata": {},
     "output_type": "execute_result"
    },
    {
     "data": {
      "image/png": "[encoded data removed]",
      "text/plain": [
       "<Figure size 432x288 with 1 Axes>"
      ]
     },
     "metadata": {
      "needs_background": "light"
     },
     "output_type": "display_data"
    }
   ],
   "source": [
    "y.hist(xlabelsize=12, xrot=90)"
   ]
  },
  {
   "cell_type": "markdown",
   "metadata": {
    "id": "p9HR9kg4JEPe"
   },
   "source": [
    "Display the percentage of the classes"
   ]
  },
  {
   "cell_type": "code",
   "execution_count": 50,
   "metadata": {
    "colab": {
     "base_uri": "https://localhost:8080/"
    },
    "id": "uWiC-otU-h_p",
    "outputId": "762f16d2-d8c3-487b-c036-ce54607dc634"
   },
   "outputs": [
    {
     "data": {
      "text/plain": [
       "Solution Discussion                  0.325866\n",
       "Social Conversation                  0.184296\n",
       "Investigation and Exploration        0.087067\n",
       "Usage                                0.084988\n",
       "Motivation                           0.066513\n",
       "Bug Reproduction                     0.056582\n",
       "Potential New Issues and Requests    0.053118\n",
       "Observed Bug Behaviour               0.030254\n",
       "Task Progress                        0.028868\n",
       "Expected Behaviour                   0.028637\n",
       "Workarounds                          0.020554\n",
       "Contribution and Commitment          0.019169\n",
       "Action on Issue                      0.014088\n",
       "Name: Code, dtype: float64"
      ]
     },
     "execution_count": 50,
     "metadata": {},
     "output_type": "execute_result"
    }
   ],
   "source": [
    "def calculate_percentage(y):\n",
    "  return y.value_counts().div(y.count())\n",
    "\n",
    "calculate_percentage(y)"
   ]
  },
  {
   "cell_type": "code",
   "execution_count": 49,
   "metadata": {
    "id": "v-p0oxjdH_w7"
   },
   "outputs": [],
   "source": [
    "X_train, X_test, y_train, y_test = train_test_split(X, y, test_size=0.20, random_state=42, stratify=y)"
   ]
  },
  {
   "cell_type": "code",
   "execution_count": 51,
   "metadata": {
    "colab": {
     "base_uri": "https://localhost:8080/"
    },
    "id": "sfAvxAaIJxnO",
    "outputId": "7a8230dc-eabe-430f-8742-89f2ab0a6c1f"
   },
   "outputs": [
    {
     "data": {
      "text/plain": [
       "Solution Discussion                  0.325924\n",
       "Social Conversation                  0.184469\n",
       "Investigation and Exploration        0.087182\n",
       "Usage                                0.084873\n",
       "Motivation                           0.066397\n",
       "Bug Reproduction                     0.056582\n",
       "Potential New Issues and Requests    0.053118\n",
       "Observed Bug Behaviour               0.030312\n",
       "Task Progress                        0.028868\n",
       "Expected Behaviour                   0.028580\n",
       "Workarounds                          0.020497\n",
       "Contribution and Commitment          0.019053\n",
       "Action on Issue                      0.014145\n",
       "Name: Code, dtype: float64"
      ]
     },
     "execution_count": 51,
     "metadata": {},
     "output_type": "execute_result"
    }
   ],
   "source": [
    "calculate_percentage(y_train)"
   ]
  },
  {
   "cell_type": "code",
   "execution_count": 52,
   "metadata": {
    "colab": {
     "base_uri": "https://localhost:8080/"
    },
    "id": "Fa8PV7SJJ8oN",
    "outputId": "280b7cc9-1be6-458c-8568-83a217de6749"
   },
   "outputs": [
    {
     "data": {
      "text/plain": [
       "Solution Discussion                  0.325635\n",
       "Social Conversation                  0.183603\n",
       "Investigation and Exploration        0.086605\n",
       "Usage                                0.085450\n",
       "Motivation                           0.066975\n",
       "Bug Reproduction                     0.056582\n",
       "Potential New Issues and Requests    0.053118\n",
       "Observed Bug Behaviour               0.030023\n",
       "Task Progress                        0.028868\n",
       "Expected Behaviour                   0.028868\n",
       "Workarounds                          0.020785\n",
       "Contribution and Commitment          0.019630\n",
       "Action on Issue                      0.013857\n",
       "Name: Code, dtype: float64"
      ]
     },
     "execution_count": 52,
     "metadata": {},
     "output_type": "execute_result"
    }
   ],
   "source": [
    "calculate_percentage(y_test)"
   ]
  },
  {
   "cell_type": "code",
   "execution_count": 55,
   "metadata": {
    "colab": {
     "base_uri": "https://localhost:8080/",
     "height": 423
    },
    "id": "kBhMSYZWKhum",
    "outputId": "be183f35-5a01-47c5-d437-c4ab7e66f928"
   },
   "outputs": [
    {
     "data": {
      "text/html": [
       "\n",
       "  <div id=\"df-c625ca25-44ae-42c7-af0f-18a3d63ee81a\">\n",
       "    <div class=\"colab-df-container\">\n",
       "      <div>\n",
       "<style scoped>\n",
       "    .dataframe tbody tr th:only-of-type {\n",
       "        vertical-align: middle;\n",
       "    }\n",
       "\n",
       "    .dataframe tbody tr th {\n",
       "        vertical-align: top;\n",
       "    }\n",
       "\n",
       "    .dataframe thead th {\n",
       "        text-align: right;\n",
       "    }\n",
       "</style>\n",
       "<table border=\"1\" class=\"dataframe\">\n",
       "  <thead>\n",
       "    <tr style=\"text-align: right;\">\n",
       "      <th></th>\n",
       "      <th>key_0</th>\n",
       "      <th>Text Content</th>\n",
       "      <th>Code</th>\n",
       "    </tr>\n",
       "  </thead>\n",
       "  <tbody>\n",
       "    <tr>\n",
       "      <th>0</th>\n",
       "      <td>203</td>\n",
       "      <td>-         This test generates training data as...</td>\n",
       "      <td>Solution Discussion</td>\n",
       "    </tr>\n",
       "    <tr>\n",
       "      <th>1</th>\n",
       "      <td>203</td>\n",
       "      <td>-         This test generates training data as...</td>\n",
       "      <td>Social Conversation</td>\n",
       "    </tr>\n",
       "    <tr>\n",
       "      <th>2</th>\n",
       "      <td>203</td>\n",
       "      <td>-         This test generates training data as...</td>\n",
       "      <td>Social Conversation</td>\n",
       "    </tr>\n",
       "    <tr>\n",
       "      <th>3</th>\n",
       "      <td>203</td>\n",
       "      <td>-         This test generates training data as...</td>\n",
       "      <td>Social Conversation</td>\n",
       "    </tr>\n",
       "    <tr>\n",
       "      <th>4</th>\n",
       "      <td>203</td>\n",
       "      <td>-         This test generates training data as...</td>\n",
       "      <td>Investigation and Exploration</td>\n",
       "    </tr>\n",
       "    <tr>\n",
       "      <th>...</th>\n",
       "      <td>...</td>\n",
       "      <td>...</td>\n",
       "      <td>...</td>\n",
       "    </tr>\n",
       "    <tr>\n",
       "      <th>31805</th>\n",
       "      <td>626</td>\n",
       "      <td>My dataset contains one column with sequences ...</td>\n",
       "      <td>Usage</td>\n",
       "    </tr>\n",
       "    <tr>\n",
       "      <th>31806</th>\n",
       "      <td>589</td>\n",
       "      <td>An easier way of inputting data from native py...</td>\n",
       "      <td>Expected Behaviour</td>\n",
       "    </tr>\n",
       "    <tr>\n",
       "      <th>31807</th>\n",
       "      <td>618</td>\n",
       "      <td>The performance gain of using the new Dataset ...</td>\n",
       "      <td>Solution Discussion</td>\n",
       "    </tr>\n",
       "    <tr>\n",
       "      <th>31808</th>\n",
       "      <td>593</td>\n",
       "      <td>The threads are daemons so shuts down when the...</td>\n",
       "      <td>Solution Discussion</td>\n",
       "    </tr>\n",
       "    <tr>\n",
       "      <th>31809</th>\n",
       "      <td>629</td>\n",
       "      <td>Edit: After writing this, i found it out: CODE</td>\n",
       "      <td>Usage</td>\n",
       "    </tr>\n",
       "  </tbody>\n",
       "</table>\n",
       "<p>31810 rows × 3 columns</p>\n",
       "</div>\n",
       "      <button class=\"colab-df-convert\" onclick=\"convertToInteractive('df-c625ca25-44ae-42c7-af0f-18a3d63ee81a')\"\n",
       "              title=\"Convert this dataframe to an interactive table.\"\n",
       "              style=\"display:none;\">\n",
       "        \n",
       "  <svg xmlns=\"http://www.w3.org/2000/svg\" height=\"24px\"viewBox=\"0 0 24 24\"\n",
       "       width=\"24px\">\n",
       "    <path d=\"M0 0h24v24H0V0z\" fill=\"none\"/>\n",
       "    <path d=\"M18.56 5.44l.94 2.06.94-2.06 2.06-.94-2.06-.94-.94-2.06-.94 2.06-2.06.94zm-11 1L8.5 8.5l.94-2.06 2.06-.94-2.06-.94L8.5 2.5l-.94 2.06-2.06.94zm10 10l.94 2.06.94-2.06 2.06-.94-2.06-.94-.94-2.06-.94 2.06-2.06.94z\"/><path d=\"M17.41 7.96l-1.37-1.37c-.4-.4-.92-.59-1.43-.59-.52 0-1.04.2-1.43.59L10.3 9.45l-7.72 7.72c-.78.78-.78 2.05 0 2.83L4 21.41c.39.39.9.59 1.41.59.51 0 1.02-.2 1.41-.59l7.78-7.78 2.81-2.81c.8-.78.8-2.07 0-2.86zM5.41 20L4 18.59l7.72-7.72 1.47 1.35L5.41 20z\"/>\n",
       "  </svg>\n",
       "      </button>\n",
       "      \n",
       "  <style>\n",
       "    .colab-df-container {\n",
       "      display:flex;\n",
       "      flex-wrap:wrap;\n",
       "      gap: 12px;\n",
       "    }\n",
       "\n",
       "    .colab-df-convert {\n",
       "      background-color: #E8F0FE;\n",
       "      border: none;\n",
       "      border-radius: 50%;\n",
       "      cursor: pointer;\n",
       "      display: none;\n",
       "      fill: #1967D2;\n",
       "      height: 32px;\n",
       "      padding: 0 0 0 0;\n",
       "      width: 32px;\n",
       "    }\n",
       "\n",
       "    .colab-df-convert:hover {\n",
       "      background-color: #E2EBFA;\n",
       "      box-shadow: 0px 1px 2px rgba(60, 64, 67, 0.3), 0px 1px 3px 1px rgba(60, 64, 67, 0.15);\n",
       "      fill: #174EA6;\n",
       "    }\n",
       "\n",
       "    [theme=dark] .colab-df-convert {\n",
       "      background-color: #3B4455;\n",
       "      fill: #D2E3FC;\n",
       "    }\n",
       "\n",
       "    [theme=dark] .colab-df-convert:hover {\n",
       "      background-color: #434B5C;\n",
       "      box-shadow: 0px 1px 3px 1px rgba(0, 0, 0, 0.15);\n",
       "      filter: drop-shadow(0px 1px 2px rgba(0, 0, 0, 0.3));\n",
       "      fill: #FFFFFF;\n",
       "    }\n",
       "  </style>\n",
       "\n",
       "      <script>\n",
       "        const buttonEl =\n",
       "          document.querySelector('#df-c625ca25-44ae-42c7-af0f-18a3d63ee81a button.colab-df-convert');\n",
       "        buttonEl.style.display =\n",
       "          google.colab.kernel.accessAllowed ? 'block' : 'none';\n",
       "\n",
       "        async function convertToInteractive(key) {\n",
       "          const element = document.querySelector('#df-c625ca25-44ae-42c7-af0f-18a3d63ee81a');\n",
       "          const dataTable =\n",
       "            await google.colab.kernel.invokeFunction('convertToInteractive',\n",
       "                                                     [key], {});\n",
       "          if (!dataTable) return;\n",
       "\n",
       "          const docLinkHtml = 'Like what you see? Visit the ' +\n",
       "            '<a target=\"_blank\" href=https://colab.research.google.com/notebooks/data_table.ipynb>data table notebook</a>'\n",
       "            + ' to learn more about interactive tables.';\n",
       "          element.innerHTML = '';\n",
       "          dataTable['output_type'] = 'display_data';\n",
       "          await google.colab.output.renderOutput(dataTable, element);\n",
       "          const docLink = document.createElement('div');\n",
       "          docLink.innerHTML = docLinkHtml;\n",
       "          element.appendChild(docLink);\n",
       "        }\n",
       "      </script>\n",
       "    </div>\n",
       "  </div>\n",
       "  "
      ],
      "text/plain": [
       "       key_0                                       Text Content  \\\n",
       "0        203  -         This test generates training data as...   \n",
       "1        203  -         This test generates training data as...   \n",
       "2        203  -         This test generates training data as...   \n",
       "3        203  -         This test generates training data as...   \n",
       "4        203  -         This test generates training data as...   \n",
       "...      ...                                                ...   \n",
       "31805    626  My dataset contains one column with sequences ...   \n",
       "31806    589  An easier way of inputting data from native py...   \n",
       "31807    618  The performance gain of using the new Dataset ...   \n",
       "31808    593  The threads are daemons so shuts down when the...   \n",
       "31809    629     Edit: After writing this, i found it out: CODE   \n",
       "\n",
       "                                Code  \n",
       "0                Solution Discussion  \n",
       "1                Social Conversation  \n",
       "2                Social Conversation  \n",
       "3                Social Conversation  \n",
       "4      Investigation and Exploration  \n",
       "...                              ...  \n",
       "31805                          Usage  \n",
       "31806             Expected Behaviour  \n",
       "31807            Solution Discussion  \n",
       "31808            Solution Discussion  \n",
       "31809                          Usage  \n",
       "\n",
       "[31810 rows x 3 columns]"
      ]
     },
     "execution_count": 55,
     "metadata": {},
     "output_type": "execute_result"
    }
   ],
   "source": [
    "train = pd.merge(X_train, y_train, on=X_train.index, how='outer')\n",
    "train.to_pickle(\"./data/train.pkl\")\n",
    "train"
   ]
  },
  {
   "cell_type": "code",
   "execution_count": 57,
   "metadata": {
    "colab": {
     "base_uri": "https://localhost:8080/",
     "height": 423
    },
    "id": "4Ldb9r0jJ9oD",
    "outputId": "61ed0998-28bb-4708-f6f8-ef82af4a8607"
   },
   "outputs": [
    {
     "data": {
      "text/html": [
       "\n",
       "  <div id=\"df-cf7e96ba-f410-4dd2-acda-774ff1e0e920\">\n",
       "    <div class=\"colab-df-container\">\n",
       "      <div>\n",
       "<style scoped>\n",
       "    .dataframe tbody tr th:only-of-type {\n",
       "        vertical-align: middle;\n",
       "    }\n",
       "\n",
       "    .dataframe tbody tr th {\n",
       "        vertical-align: top;\n",
       "    }\n",
       "\n",
       "    .dataframe thead th {\n",
       "        text-align: right;\n",
       "    }\n",
       "</style>\n",
       "<table border=\"1\" class=\"dataframe\">\n",
       "  <thead>\n",
       "    <tr style=\"text-align: right;\">\n",
       "      <th></th>\n",
       "      <th>key_0</th>\n",
       "      <th>Text Content</th>\n",
       "      <th>Code</th>\n",
       "    </tr>\n",
       "  </thead>\n",
       "  <tbody>\n",
       "    <tr>\n",
       "      <th>0</th>\n",
       "      <td>314</td>\n",
       "      <td>Let's the do something useful for community in...</td>\n",
       "      <td>Social Conversation</td>\n",
       "    </tr>\n",
       "    <tr>\n",
       "      <th>1</th>\n",
       "      <td>314</td>\n",
       "      <td>Let's the do something useful for community in...</td>\n",
       "      <td>Task Progress</td>\n",
       "    </tr>\n",
       "    <tr>\n",
       "      <th>2</th>\n",
       "      <td>314</td>\n",
       "      <td>First documentation on master under CODE: http...</td>\n",
       "      <td>Social Conversation</td>\n",
       "    </tr>\n",
       "    <tr>\n",
       "      <th>3</th>\n",
       "      <td>314</td>\n",
       "      <td>First documentation on master under CODE: http...</td>\n",
       "      <td>Task Progress</td>\n",
       "    </tr>\n",
       "    <tr>\n",
       "      <th>4</th>\n",
       "      <td>220</td>\n",
       "      <td>Maybe this a pretty basic question but could y...</td>\n",
       "      <td>Solution Discussion</td>\n",
       "    </tr>\n",
       "    <tr>\n",
       "      <th>...</th>\n",
       "      <td>...</td>\n",
       "      <td>...</td>\n",
       "      <td>...</td>\n",
       "    </tr>\n",
       "    <tr>\n",
       "      <th>2589</th>\n",
       "      <td>587</td>\n",
       "      <td>I think the queues are nice enough.</td>\n",
       "      <td>Social Conversation</td>\n",
       "    </tr>\n",
       "    <tr>\n",
       "      <th>2590</th>\n",
       "      <td>567</td>\n",
       "      <td>CODE</td>\n",
       "      <td>Expected Behaviour</td>\n",
       "    </tr>\n",
       "    <tr>\n",
       "      <th>2591</th>\n",
       "      <td>328</td>\n",
       "      <td>(I will do this when I'm available, aha)</td>\n",
       "      <td>Contribution and Commitment</td>\n",
       "    </tr>\n",
       "    <tr>\n",
       "      <th>2592</th>\n",
       "      <td>333</td>\n",
       "      <td>It may not be the right place to ask but I'd l...</td>\n",
       "      <td>Motivation</td>\n",
       "    </tr>\n",
       "    <tr>\n",
       "      <th>2593</th>\n",
       "      <td>443</td>\n",
       "      <td>One concrete example of why this would be useful:</td>\n",
       "      <td>Motivation</td>\n",
       "    </tr>\n",
       "  </tbody>\n",
       "</table>\n",
       "<p>2594 rows × 3 columns</p>\n",
       "</div>\n",
       "      <button class=\"colab-df-convert\" onclick=\"convertToInteractive('df-cf7e96ba-f410-4dd2-acda-774ff1e0e920')\"\n",
       "              title=\"Convert this dataframe to an interactive table.\"\n",
       "              style=\"display:none;\">\n",
       "        \n",
       "  <svg xmlns=\"http://www.w3.org/2000/svg\" height=\"24px\"viewBox=\"0 0 24 24\"\n",
       "       width=\"24px\">\n",
       "    <path d=\"M0 0h24v24H0V0z\" fill=\"none\"/>\n",
       "    <path d=\"M18.56 5.44l.94 2.06.94-2.06 2.06-.94-2.06-.94-.94-2.06-.94 2.06-2.06.94zm-11 1L8.5 8.5l.94-2.06 2.06-.94-2.06-.94L8.5 2.5l-.94 2.06-2.06.94zm10 10l.94 2.06.94-2.06 2.06-.94-2.06-.94-.94-2.06-.94 2.06-2.06.94z\"/><path d=\"M17.41 7.96l-1.37-1.37c-.4-.4-.92-.59-1.43-.59-.52 0-1.04.2-1.43.59L10.3 9.45l-7.72 7.72c-.78.78-.78 2.05 0 2.83L4 21.41c.39.39.9.59 1.41.59.51 0 1.02-.2 1.41-.59l7.78-7.78 2.81-2.81c.8-.78.8-2.07 0-2.86zM5.41 20L4 18.59l7.72-7.72 1.47 1.35L5.41 20z\"/>\n",
       "  </svg>\n",
       "      </button>\n",
       "      \n",
       "  <style>\n",
       "    .colab-df-container {\n",
       "      display:flex;\n",
       "      flex-wrap:wrap;\n",
       "      gap: 12px;\n",
       "    }\n",
       "\n",
       "    .colab-df-convert {\n",
       "      background-color: #E8F0FE;\n",
       "      border: none;\n",
       "      border-radius: 50%;\n",
       "      cursor: pointer;\n",
       "      display: none;\n",
       "      fill: #1967D2;\n",
       "      height: 32px;\n",
       "      padding: 0 0 0 0;\n",
       "      width: 32px;\n",
       "    }\n",
       "\n",
       "    .colab-df-convert:hover {\n",
       "      background-color: #E2EBFA;\n",
       "      box-shadow: 0px 1px 2px rgba(60, 64, 67, 0.3), 0px 1px 3px 1px rgba(60, 64, 67, 0.15);\n",
       "      fill: #174EA6;\n",
       "    }\n",
       "\n",
       "    [theme=dark] .colab-df-convert {\n",
       "      background-color: #3B4455;\n",
       "      fill: #D2E3FC;\n",
       "    }\n",
       "\n",
       "    [theme=dark] .colab-df-convert:hover {\n",
       "      background-color: #434B5C;\n",
       "      box-shadow: 0px 1px 3px 1px rgba(0, 0, 0, 0.15);\n",
       "      filter: drop-shadow(0px 1px 2px rgba(0, 0, 0, 0.3));\n",
       "      fill: #FFFFFF;\n",
       "    }\n",
       "  </style>\n",
       "\n",
       "      <script>\n",
       "        const buttonEl =\n",
       "          document.querySelector('#df-cf7e96ba-f410-4dd2-acda-774ff1e0e920 button.colab-df-convert');\n",
       "        buttonEl.style.display =\n",
       "          google.colab.kernel.accessAllowed ? 'block' : 'none';\n",
       "\n",
       "        async function convertToInteractive(key) {\n",
       "          const element = document.querySelector('#df-cf7e96ba-f410-4dd2-acda-774ff1e0e920');\n",
       "          const dataTable =\n",
       "            await google.colab.kernel.invokeFunction('convertToInteractive',\n",
       "                                                     [key], {});\n",
       "          if (!dataTable) return;\n",
       "\n",
       "          const docLinkHtml = 'Like what you see? Visit the ' +\n",
       "            '<a target=\"_blank\" href=https://colab.research.google.com/notebooks/data_table.ipynb>data table notebook</a>'\n",
       "            + ' to learn more about interactive tables.';\n",
       "          element.innerHTML = '';\n",
       "          dataTable['output_type'] = 'display_data';\n",
       "          await google.colab.output.renderOutput(dataTable, element);\n",
       "          const docLink = document.createElement('div');\n",
       "          docLink.innerHTML = docLinkHtml;\n",
       "          element.appendChild(docLink);\n",
       "        }\n",
       "      </script>\n",
       "    </div>\n",
       "  </div>\n",
       "  "
      ],
      "text/plain": [
       "      key_0                                       Text Content  \\\n",
       "0       314  Let's the do something useful for community in...   \n",
       "1       314  Let's the do something useful for community in...   \n",
       "2       314  First documentation on master under CODE: http...   \n",
       "3       314  First documentation on master under CODE: http...   \n",
       "4       220  Maybe this a pretty basic question but could y...   \n",
       "...     ...                                                ...   \n",
       "2589    587                I think the queues are nice enough.   \n",
       "2590    567                                               CODE   \n",
       "2591    328           (I will do this when I'm available, aha)   \n",
       "2592    333  It may not be the right place to ask but I'd l...   \n",
       "2593    443  One concrete example of why this would be useful:   \n",
       "\n",
       "                             Code  \n",
       "0             Social Conversation  \n",
       "1                   Task Progress  \n",
       "2             Social Conversation  \n",
       "3                   Task Progress  \n",
       "4             Solution Discussion  \n",
       "...                           ...  \n",
       "2589          Social Conversation  \n",
       "2590           Expected Behaviour  \n",
       "2591  Contribution and Commitment  \n",
       "2592                   Motivation  \n",
       "2593                   Motivation  \n",
       "\n",
       "[2594 rows x 3 columns]"
      ]
     },
     "execution_count": 57,
     "metadata": {},
     "output_type": "execute_result"
    }
   ],
   "source": [
    "test = pd.merge(X_test, y_test, on=X_test.index, how='outer')\n",
    "test.to_pickle(\"./data/test.pkl\")\n",
    "test"
   ]
  },
  {
   "cell_type": "code",
   "execution_count": 58,
   "metadata": {
    "colab": {
     "base_uri": "https://localhost:8080/"
    },
    "id": "CTGkP-KkLL0M",
    "outputId": "a138bbb7-8d21-4f59-cad3-e095959e3c22"
   },
   "outputs": [
    {
     "name": "stdout",
     "output_type": "stream",
     "text": [
      "Size of the train data:  31810\n",
      "Size of the test data:  2594\n"
     ]
    }
   ],
   "source": [
    "print(\"Size of the train data: \", len(train))\n",
    "print(\"Size of the test data: \", len(test))"
   ]
  },
  {
   "cell_type": "code",
   "execution_count": null,
   "metadata": {
    "id": "FcTjI3w6Llpx"
   },
   "outputs": [],
   "source": []
  }
 ],
 "metadata": {
  "colab": {
   "collapsed_sections": [],
   "name": "Create_test_train_data.ipynb",
   "provenance": []
  },
  "kernelspec": {
   "display_name": "Python 3",
   "language": "python",
   "name": "python3"
  },
  "language_info": {
   "codemirror_mode": {
    "name": "ipython",
    "version": 3
   },
   "file_extension": ".py",
   "mimetype": "text/x-python",
   "name": "python",
   "nbconvert_exporter": "python",
   "pygments_lexer": "ipython3",
   "version": "3.7.4"
  }
 },
 "nbformat": 4,
 "nbformat_minor": 1
}
